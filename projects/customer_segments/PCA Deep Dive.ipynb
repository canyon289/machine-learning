{
 "cells": [
  {
   "cell_type": "markdown",
   "metadata": {},
   "source": [
    "# PCA Deep dive\n",
    "The purpose of this notebook is to really get into PCA to make sure I understand all the concepts through and through deeply enough that I can refer to them without reference\n",
    "\n",
    "## Methodology\n",
    "I'll be working through the tutorial created by Lindsay Smith, contained in this repo and also linked here.\n",
    "http://www.cs.otago.ac.nz/cosc453/student_tutorials/principal_components.pdf\n",
    "\n",
    "### Topics that will be covered\n",
    "* Standard Deviation\n",
    "* Covariance\n",
    "* Eigenvectors\n",
    "* Eigenvalues"
   ]
  },
  {
   "cell_type": "markdown",
   "metadata": {},
   "source": [
    "## Standard Deviation\n",
    "Statistics is typically concerned with taking the sample of a population. *A fundamental assumption is that the data we're working with is a sample of a population*\n",
    "\n",
    "Variance is a measure of how far measured data points are spread from the Expected Value of the distribution. Typically this is the mean but Expected Value is a much more generalizable term.\n",
    "\n",
    "Variance is squared so the vector from the mean is essentially directionless."
   ]
  },
  {
   "cell_type": "markdown",
   "metadata": {},
   "source": [
    "### Why Square instead of absolute value\n",
    "https://stats.stackexchange.com/questions/118/why-square-the-difference-instead-of-taking-the-absolute-value-in-standard-devia\n",
    "\n",
    "From the answer above squaring a value prsents much nicer mathematical properties, for example it is continously differentiable.\n",
    "\n",
    "Taking the absolute value, called absolute deviation when applied in this context, presents a discontinuity at zero making taking derivatives a bit more annoying. \n",
    "\n",
    "It also seems that squaring is favored because it penalizes larger distances between the mean and the data point."
   ]
  },
  {
   "cell_type": "code",
   "execution_count": 1,
   "metadata": {
    "collapsed": true
   },
   "outputs": [],
   "source": [
    "import numpy as np"
   ]
  },
  {
   "cell_type": "code",
   "execution_count": 3,
   "metadata": {
    "collapsed": true
   },
   "outputs": [],
   "source": [
    "X = [1, 2, 4, 6, 12, 15, 25, 45, 68, 67, 65, 98]"
   ]
  },
  {
   "cell_type": "code",
   "execution_count": 9,
   "metadata": {},
   "outputs": [
    {
     "name": "stdout",
     "output_type": "stream",
     "text": [
      "34.0\n",
      "33.2292313811\n"
     ]
    }
   ],
   "source": [
    "mean = np.mean(X)\n",
    "std  = np.sqrt(sum([(x_i - mean)**2 for x_i in X]) / (len(X)-1))\n",
    "print(mean)\n",
    "print(std)"
   ]
  },
  {
   "cell_type": "code",
   "execution_count": null,
   "metadata": {
    "collapsed": true
   },
   "outputs": [],
   "source": []
  },
  {
   "cell_type": "markdown",
   "metadata": {},
   "source": []
  }
 ],
 "metadata": {
  "kernelspec": {
   "display_name": "Python 2",
   "language": "python",
   "name": "python2"
  },
  "language_info": {
   "codemirror_mode": {
    "name": "ipython",
    "version": 2
   },
   "file_extension": ".py",
   "mimetype": "text/x-python",
   "name": "python",
   "nbconvert_exporter": "python",
   "pygments_lexer": "ipython2",
   "version": "2.7.14"
  }
 },
 "nbformat": 4,
 "nbformat_minor": 2
}
